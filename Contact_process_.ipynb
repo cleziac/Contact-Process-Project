{
  "nbformat": 4,
  "nbformat_minor": 0,
  "metadata": {
    "colab": {
      "provenance": [],
      "authorship_tag": "ABX9TyOxlt8RJsYBHwI3N35biAEo",
      "include_colab_link": true
    },
    "kernelspec": {
      "name": "python3",
      "display_name": "Python 3"
    },
    "language_info": {
      "name": "python"
    }
  },
  "cells": [
    {
      "cell_type": "markdown",
      "metadata": {
        "id": "view-in-github",
        "colab_type": "text"
      },
      "source": [
        "<a href=\"https://colab.research.google.com/github/cleziac/Contact-Process-Project/blob/main/Contact_process_.ipynb\" target=\"_parent\"><img src=\"https://colab.research.google.com/assets/colab-badge.svg\" alt=\"Open In Colab\"/></a>"
      ]
    },
    {
      "cell_type": "markdown",
      "source": [
        "## Contact process: implementations and simulations. "
      ],
      "metadata": {
        "id": "OaPzrAyPB7qp"
      }
    },
    {
      "cell_type": "markdown",
      "source": [
        "Let $ G = (V, E) $ be an undirected graph. The contact process is a discrete Markov chain with state space $ S := \\{{0, 1}\\}^V $. So $ x \\in S$ means $ x = (x_i)_{i \\in V}.$ If $x_i$ = 1 we say vertex $i$ is infected, if $x_i = 0$ we say vertex $i$ is susceptible.\n",
        "The dynamics are as follows. Here $\\lambda$ is a positive parameter. At any time step:\n",
        "\n",
        "- Choose a vertex $i \\in V$ at random with equal probability.\n",
        "    - If $X_i = 0$ then nothing happens.\n",
        "    - If $x_i = 1$ then choose a neighbor $j$ of $i$, with equal probability. \n",
        "        - With probability $1 /(1+\\lambda)$ update $x_i$ to the value 0;\n",
        "        - With probability $\\lambda /(1+\\lambda)$ update $x_j$ to the value 1 (in the case $x_j = 1$ then nothing happens).\n",
        "- Proceed to the next step. \n",
        "\n",
        "As initial state you may take the state in which all vertices are infected. This Markov chain stops as it reaches the absorbing state in which all vertices are susceptible. We denote by $T$ the time needed to reach the absorbing state. \n",
        "\n",
        "The project consists in the following. First choose your favorite graph with $n$ vertices, e.g. the discrete ring. Then make $N$ independent simulations of the process, and denote by $T_k$ the absorption time for the $k-th$ simulation. Then, by the law of large numbers\n",
        "\n",
        "$\\overline{T} = \\frac{1}{N}\\sum_{k = 1}^{N} T_k$\n",
        "\n",
        "is an estimate for $E(T)$. By several simulations and suitable plots, determine:\n",
        "- How $\\overline{T}$ depends on $\\lambda$; you should be able to identify two regimes: for $\\lambda$ small enough, $\\overline{T}$ is also small, while $\\overline{T}$ grows fast as $\\lambda$ crosses a critical value $\\lambda_c$.\n",
        "- (optional) for different values of $\\lambda$ (larger or smaller than $\\lambda_c$) determine how $\\overline{T}$ depends on the number of $n$ vertices. "
      ],
      "metadata": {
        "id": "WWOvudo7CB-z"
      }
    },
    {
      "cell_type": "code",
      "execution_count": 1,
      "metadata": {
        "id": "ZRxdruV7B6DJ"
      },
      "outputs": [],
      "source": [
        "# import of libraries\n",
        "\n",
        "import numpy as np\n",
        "import pandas as pd\n",
        "import networkx as nx\n",
        "import os\n",
        "import timeit\n",
        "import matplotlib.pyplot as plt"
      ]
    },
    {
      "cell_type": "code",
      "source": [
        "# definition of the first function that, given a dimension N and a \n",
        "# percentage perc, returns a discrete ring of that given dimension\n",
        "# where a number of nodes at random are infected\n",
        "\n",
        "def build_ring(N, perc):                            # N = number of nodes and perc is the percentage of \n",
        "                                                    # initially infected nodes. \n",
        "    mat = np.zeros((N, N), dtype = int)             # returns a NxN matrix filled with 0s\n",
        "    for i in range(1, mat.shape[0] - 1):            # filling with 1s the nodes in the positions [1, ..., N - 1]\n",
        "        mat[i][i - 1] = 1\n",
        "        mat[i][i + 1] = 1\n",
        "    mat[0][1] = 1                                   # filling with 1s the nodes in the positions 0 and N (can't cycle on them)\n",
        "    mat[0][-1] = 1\n",
        "    mat[-1][0] = 1\n",
        "    mat[-1][-2] = 1\n",
        "    \n",
        "    initially_susceptible = np.full(N, 'S')         # returns a new array of given shape (N) and type, filled with fill_value ('S')\n",
        "    initially_infected = int(N*perc)                # ratio of infected nodes\n",
        "    for i in range(initially_infected):             \n",
        "        initially_susceptible[i] = 'I'                              \n",
        "    return mat, initially_susceptible"
      ],
      "metadata": {
        "id": "gMzd0k-0C1SO"
      },
      "execution_count": 28,
      "outputs": []
    },
    {
      "cell_type": "code",
      "source": [
        "# definition of the function that, given an adjacency matrix and \n",
        "# an initial distribution, provides the visual representation of the graph. \n",
        "\n",
        "def plot_graph(mat, initially_susceptible):                         \n",
        "    G = nx.from_numpy_array(mat)\n",
        "    color = np.full(len(initially_susceptible), ['blue'])           # susceptible nodes in blue\n",
        "    \n",
        "    for i in range(len(initially_susceptible)):\n",
        "        if initially_susceptible[i] == 'I':\n",
        "                    color[i] = 'red'                                # infected nodes in red\n",
        "    nx.draw(G, node_color = color)\n",
        "    return"
      ],
      "metadata": {
        "id": "perU9_FKDOD_"
      },
      "execution_count": 24,
      "outputs": []
    },
    {
      "cell_type": "code",
      "source": [
        "# definition of the actual contact process algorithm\n",
        "\n",
        "def contact_process(matrix, initial_distribution, lambda_p):\n",
        "    N = matrix.shape[0]\n",
        "    V = matrix.shape[1]\n",
        "    tic = timeit.default_timer()\n",
        "    while(np.any(initial_distribution == 'I')):                     # while there are infected vertices\n",
        "        row_number = np.random.randint(0, N)                        # select a random vertex\n",
        "        if initial_distribution[row_number] == 'S':                 # if the vertex is susceptible => nothing happens\n",
        "            continue\n",
        "        else:                                                       # the vertex selected is infected => pick a neighbor vertex\n",
        "            if row_number == 0:\n",
        "                neighbor = np.random.choice([initial_distribution[row_number + 1], initial_distribution[V - 1]])\n",
        "            elif row_number == V:\n",
        "                neighbor = np.random.choice([initial_distribution[0], initial_distribution[row_number - 1]])\n",
        "            else:\n",
        "                neighbor = np.random.choice([initial_distribution[row_number - 1], initial_distribution[row_number]], 1)\n",
        "            \n",
        "            update_prob = np.random.choice(2, 1, p = [1/(1+lambda_p), lambda_p/(1+lambda_p)])\n",
        "            if update_prob == 0:  # first choice => node becomes susceptible\n",
        "                initial_distribution[row_number] = 'S'\n",
        "            else:                 # second choice => node stays infected and nothing happens \n",
        "                continue\n",
        "    toc = timeit.default_timer()\n",
        "    T = toc - tic\n",
        "    return T"
      ],
      "metadata": {
        "id": "tUmWgWkbEsde"
      },
      "execution_count": 4,
      "outputs": []
    },
    {
      "cell_type": "markdown",
      "source": [
        "# Benchmarks and tests to time how long it takes to reach convergence. "
      ],
      "metadata": {
        "id": "-WR1ZQ5XE4Nu"
      }
    },
    {
      "cell_type": "markdown",
      "source": [
        "Test 1: graph with **10 nodes** and an **initial distribution of 1**, meaning that all nodes start as infected. "
      ],
      "metadata": {
        "id": "XRRu35UbFJd5"
      }
    },
    {
      "cell_type": "code",
      "source": [
        "one, initially_sus = build_ring(10, 1)\n",
        "print(initially_sus)\n",
        "plot_graph(one, initially_sus)"
      ],
      "metadata": {
        "colab": {
          "base_uri": "https://localhost:8080/",
          "height": 336
        },
        "id": "5du4qoa1Utwr",
        "outputId": "a6ee5621-56b8-4c95-cae3-bf17593ac7c5"
      },
      "execution_count": 31,
      "outputs": [
        {
          "output_type": "stream",
          "name": "stdout",
          "text": [
            "['I' 'I' 'I' 'I' 'I' 'I' 'I' 'I' 'I' 'I']\n"
          ]
        },
        {
          "output_type": "display_data",
          "data": {
            "text/plain": [
              "<Figure size 432x288 with 1 Axes>"
            ],
            "image/png": "[encoded data removed]"
          },
          "metadata": {}
        }
      ]
    },
    {
      "cell_type": "markdown",
      "source": [
        "Graph at the end of the process, when all the states are susceptible. "
      ],
      "metadata": {
        "id": "zVcIZ8WEU0du"
      }
    },
    {
      "cell_type": "code",
      "source": [
        "one, initially_sus = build_ring(10, 1)\n",
        "T_test = contact_process(one, initially_sus, 1)\n",
        "plot_graph(one, initially_sus)"
      ],
      "metadata": {
        "colab": {
          "base_uri": "https://localhost:8080/",
          "height": 319
        },
        "id": "ciT15Li_U6mc",
        "outputId": "3ff55c8e-e06c-48d7-b6de-1216675b8cef"
      },
      "execution_count": 32,
      "outputs": [
        {
          "output_type": "display_data",
          "data": {
            "text/plain": [
              "<Figure size 432x288 with 1 Axes>"
            ],
            "image/png": "[encoded data removed]"
          },
          "metadata": {}
        }
      ]
    },
    {
      "cell_type": "code",
      "source": [
        "one, initially_sus = build_ring(10, 1)\n",
        "T1 = contact_process(one, initially_sus, 1)\n",
        "print(T1)"
      ],
      "metadata": {
        "colab": {
          "base_uri": "https://localhost:8080/"
        },
        "id": "YzG7bgK_E05O",
        "outputId": "0218f84f-e7aa-4067-b96f-07c765c0d2b1"
      },
      "execution_count": 33,
      "outputs": [
        {
          "output_type": "stream",
          "name": "stdout",
          "text": [
            "0.003294173000540468\n"
          ]
        }
      ]
    },
    {
      "cell_type": "code",
      "source": [
        "one, initially_sus = build_ring(10, 1)\n",
        "T2 = contact_process(one, initially_sus, 2)\n",
        "print(T2)"
      ],
      "metadata": {
        "colab": {
          "base_uri": "https://localhost:8080/"
        },
        "id": "lWEZyEUFGrKc",
        "outputId": "6a581cdb-9e5d-4b37-f0d0-8ecdd6af87c7"
      },
      "execution_count": 34,
      "outputs": [
        {
          "output_type": "stream",
          "name": "stdout",
          "text": [
            "0.007752851000077499\n"
          ]
        }
      ]
    },
    {
      "cell_type": "code",
      "source": [
        "one, initially_sus = build_ring(10, 1)\n",
        "T10 = contact_process(one, initially_sus, 10)\n",
        "print(T10)"
      ],
      "metadata": {
        "colab": {
          "base_uri": "https://localhost:8080/"
        },
        "id": "xUlsXrTyGxrv",
        "outputId": "67311906-33e4-48de-804d-ca14cd80a931"
      },
      "execution_count": 35,
      "outputs": [
        {
          "output_type": "stream",
          "name": "stdout",
          "text": [
            "0.015790995999850566\n"
          ]
        }
      ]
    },
    {
      "cell_type": "code",
      "source": [
        "one, initially_sus = build_ring(10, 1)\n",
        "T20 = contact_process(one, initially_sus, 20)\n",
        "print(T20)"
      ],
      "metadata": {
        "colab": {
          "base_uri": "https://localhost:8080/"
        },
        "id": "sIf6a6EEG2OR",
        "outputId": "8891fdbc-e31e-49b6-8a62-3d2273703db1"
      },
      "execution_count": 36,
      "outputs": [
        {
          "output_type": "stream",
          "name": "stdout",
          "text": [
            "0.035583062000114296\n"
          ]
        }
      ]
    },
    {
      "cell_type": "code",
      "source": [
        "one, initially_sus = build_ring(10, 1)\n",
        "T50 = contact_process(one, initially_sus, 50)\n",
        "print(T50)"
      ],
      "metadata": {
        "colab": {
          "base_uri": "https://localhost:8080/"
        },
        "id": "Od52GrksIprA",
        "outputId": "cc509439-6689-47bf-e009-7f4d98d31f1b"
      },
      "execution_count": 37,
      "outputs": [
        {
          "output_type": "stream",
          "name": "stdout",
          "text": [
            "0.0611610779997136\n"
          ]
        }
      ]
    },
    {
      "cell_type": "code",
      "source": [
        "one, initially_sus = build_ring(10, 1)\n",
        "T60 = contact_process(one, initially_sus, 60)\n",
        "print(T60)"
      ],
      "metadata": {
        "colab": {
          "base_uri": "https://localhost:8080/"
        },
        "id": "JrMplkf_IvJC",
        "outputId": "06c01437-79dd-4e43-e83f-5f12e36c1dbe"
      },
      "execution_count": 38,
      "outputs": [
        {
          "output_type": "stream",
          "name": "stdout",
          "text": [
            "0.058442173000003095\n"
          ]
        }
      ]
    },
    {
      "cell_type": "code",
      "source": [
        "one, initially_sus = build_ring(10, 1)\n",
        "T80 = contact_process(one, initially_sus, 80)\n",
        "print(T80)"
      ],
      "metadata": {
        "colab": {
          "base_uri": "https://localhost:8080/"
        },
        "id": "FYAoPVQIIzlm",
        "outputId": "fe0b1d53-7ff7-4677-fa6a-748f20f57e25"
      },
      "execution_count": 39,
      "outputs": [
        {
          "output_type": "stream",
          "name": "stdout",
          "text": [
            "0.13273851400026615\n"
          ]
        }
      ]
    },
    {
      "cell_type": "code",
      "source": [
        "one, initially_sus = build_ring(10, 1)\n",
        "T1000 = contact_process(one, initially_sus, 1000)\n",
        "print(T1000)"
      ],
      "metadata": {
        "colab": {
          "base_uri": "https://localhost:8080/"
        },
        "id": "w6FLnr4KI5yv",
        "outputId": "446fbe65-d418-496e-f611-3218fb6970b2"
      },
      "execution_count": 40,
      "outputs": [
        {
          "output_type": "stream",
          "name": "stdout",
          "text": [
            "1.9453608650001115\n"
          ]
        }
      ]
    },
    {
      "cell_type": "code",
      "source": [
        "one, initially_sus = build_ring(10, 1)\n",
        "T2000 = contact_process(one, initially_sus, 2000)\n",
        "print(T2000)"
      ],
      "metadata": {
        "colab": {
          "base_uri": "https://localhost:8080/"
        },
        "id": "LisA0jetI-db",
        "outputId": "5029d9fd-f29a-43a5-80a0-8e2aefe6b15c"
      },
      "execution_count": 41,
      "outputs": [
        {
          "output_type": "stream",
          "name": "stdout",
          "text": [
            "1.5712766599999668\n"
          ]
        }
      ]
    },
    {
      "cell_type": "markdown",
      "source": [
        "Test 2: graph with **25 nodes** and an **initial distribution of 1**, meaning that all nodes start as infected."
      ],
      "metadata": {
        "id": "8D8zhPBVJGSh"
      }
    },
    {
      "cell_type": "code",
      "source": [
        "two, initially_sus = build_ring(25, 1)\n",
        "print(initially_sus)\n",
        "plot_graph(two, initially_sus)"
      ],
      "metadata": {
        "colab": {
          "base_uri": "https://localhost:8080/",
          "height": 354
        },
        "id": "J2jBgMP5RhUq",
        "outputId": "e93024d4-dbc6-4651-e1de-58faaa3c10a0"
      },
      "execution_count": 29,
      "outputs": [
        {
          "output_type": "stream",
          "name": "stdout",
          "text": [
            "['I' 'I' 'I' 'I' 'I' 'I' 'I' 'I' 'I' 'I' 'I' 'I' 'I' 'I' 'I' 'I' 'I' 'I'\n",
            " 'I' 'I' 'I' 'I' 'I' 'I' 'I']\n"
          ]
        },
        {
          "output_type": "display_data",
          "data": {
            "text/plain": [
              "<Figure size 432x288 with 1 Axes>"
            ],
            "image/png": "[encoded data removed]"
          },
          "metadata": {}
        }
      ]
    },
    {
      "cell_type": "markdown",
      "source": [
        "Graph at the end of the process, when all states are susceptible again. "
      ],
      "metadata": {
        "id": "CRPWClyNUPDh"
      }
    },
    {
      "cell_type": "code",
      "source": [
        "two, initially_sus = build_ring(25, 1)\n",
        "T_test = contact_process(two, initially_sus, 1)\n",
        "plot_graph(two, initially_sus)"
      ],
      "metadata": {
        "colab": {
          "base_uri": "https://localhost:8080/",
          "height": 319
        },
        "id": "EwGNous4UMPm",
        "outputId": "140c2f82-d4ad-445f-b057-6079061878f5"
      },
      "execution_count": 30,
      "outputs": [
        {
          "output_type": "display_data",
          "data": {
            "text/plain": [
              "<Figure size 432x288 with 1 Axes>"
            ],
            "image/png": "[encoded data removed]"
          },
          "metadata": {}
        }
      ]
    },
    {
      "cell_type": "markdown",
      "source": [
        "Test to compute timings. "
      ],
      "metadata": {
        "id": "S5CWp8McUk9F"
      }
    },
    {
      "cell_type": "code",
      "source": [
        "two, initially_sus = build_ring(25, 1)\n",
        "T11 = contact_process(two, initially_sus, 1)\n",
        "print(T11)"
      ],
      "metadata": {
        "colab": {
          "base_uri": "https://localhost:8080/"
        },
        "id": "gEnTfXY6JDt6",
        "outputId": "5879ccb9-99ab-49cc-8d3b-0ec563a226f4"
      },
      "execution_count": 42,
      "outputs": [
        {
          "output_type": "stream",
          "name": "stdout",
          "text": [
            "0.008812000000034459\n"
          ]
        }
      ]
    },
    {
      "cell_type": "code",
      "source": [
        "two, initially_sus = build_ring(25, 1)\n",
        "T22 = contact_process(two, initially_sus, 2)\n",
        "print(T22)"
      ],
      "metadata": {
        "colab": {
          "base_uri": "https://localhost:8080/"
        },
        "id": "GQF2RClVQxTC",
        "outputId": "d05fc27c-81b4-430a-d82d-454faf1f5559"
      },
      "execution_count": 43,
      "outputs": [
        {
          "output_type": "stream",
          "name": "stdout",
          "text": [
            "0.05100449099973048\n"
          ]
        }
      ]
    },
    {
      "cell_type": "code",
      "source": [
        "two, initially_sus = build_ring(25, 1)\n",
        "T33 = contact_process(two, initially_sus, 10)\n",
        "print(T33)"
      ],
      "metadata": {
        "colab": {
          "base_uri": "https://localhost:8080/"
        },
        "id": "Kw7uwrqpQ2JB",
        "outputId": "31d8fd2b-da21-4b70-dfc6-6c032d2d197a"
      },
      "execution_count": 44,
      "outputs": [
        {
          "output_type": "stream",
          "name": "stdout",
          "text": [
            "0.048884908000218275\n"
          ]
        }
      ]
    },
    {
      "cell_type": "code",
      "source": [
        "two, initially_sus = build_ring(25, 1)\n",
        "T44 = contact_process(two, initially_sus, 20)\n",
        "print(T44)"
      ],
      "metadata": {
        "colab": {
          "base_uri": "https://localhost:8080/"
        },
        "id": "3A9rgFGcQ5_s",
        "outputId": "b92b67d5-5c0a-484d-c413-1ec474ef87b4"
      },
      "execution_count": 45,
      "outputs": [
        {
          "output_type": "stream",
          "name": "stdout",
          "text": [
            "0.056680982999750995\n"
          ]
        }
      ]
    },
    {
      "cell_type": "code",
      "source": [
        "two, initially_sus = build_ring(25, 1)\n",
        "T55 = contact_process(two, initially_sus, 50)\n",
        "print(T55)"
      ],
      "metadata": {
        "colab": {
          "base_uri": "https://localhost:8080/"
        },
        "id": "4dwdK7fnRAc9",
        "outputId": "6b7e0cda-2ed9-46dd-c442-70aea774cd70"
      },
      "execution_count": 46,
      "outputs": [
        {
          "output_type": "stream",
          "name": "stdout",
          "text": [
            "0.17192118299954018\n"
          ]
        }
      ]
    },
    {
      "cell_type": "code",
      "source": [
        "two, initially_sus = build_ring(25, 1)\n",
        "T66 = contact_process(two, initially_sus, 60)\n",
        "print(T66)"
      ],
      "metadata": {
        "colab": {
          "base_uri": "https://localhost:8080/"
        },
        "id": "BV-3B4rbREHQ",
        "outputId": "2c3c5c16-92e4-4f4a-f73f-16c063871f08"
      },
      "execution_count": 47,
      "outputs": [
        {
          "output_type": "stream",
          "name": "stdout",
          "text": [
            "0.2296649689997139\n"
          ]
        }
      ]
    },
    {
      "cell_type": "code",
      "source": [
        "two, initially_sus = build_ring(25, 1)\n",
        "T77 = contact_process(two, initially_sus, 80)\n",
        "print(T77)"
      ],
      "metadata": {
        "colab": {
          "base_uri": "https://localhost:8080/"
        },
        "id": "iIS48_W5RMJZ",
        "outputId": "d0850b85-865f-4d2e-da81-0e334d1313a1"
      },
      "execution_count": 48,
      "outputs": [
        {
          "output_type": "stream",
          "name": "stdout",
          "text": [
            "0.2657322559998647\n"
          ]
        }
      ]
    },
    {
      "cell_type": "code",
      "source": [
        "two, initially_sus = build_ring(25, 1)\n",
        "T88 = contact_process(two, initially_sus, 1000)\n",
        "print(T88)"
      ],
      "metadata": {
        "colab": {
          "base_uri": "https://localhost:8080/"
        },
        "id": "4mySyXA3RQJO",
        "outputId": "3270b3ac-1952-444c-a6fc-22c409f5db40"
      },
      "execution_count": 49,
      "outputs": [
        {
          "output_type": "stream",
          "name": "stdout",
          "text": [
            "1.9277154920000612\n"
          ]
        }
      ]
    },
    {
      "cell_type": "code",
      "source": [
        "two, initially_sus = build_ring(25, 1)\n",
        "T99 = contact_process(two, initially_sus, 2000)\n",
        "print(T99)"
      ],
      "metadata": {
        "colab": {
          "base_uri": "https://localhost:8080/"
        },
        "id": "tgjwEYvfRVeX",
        "outputId": "868d8e8e-b7db-47b7-a877-adf8487860d9"
      },
      "execution_count": 50,
      "outputs": [
        {
          "output_type": "stream",
          "name": "stdout",
          "text": [
            "3.3610951900000146\n"
          ]
        }
      ]
    },
    {
      "cell_type": "markdown",
      "source": [
        "Test 3: the discrete ring has now 50 nodes with the same initial distribution as before. "
      ],
      "metadata": {
        "id": "YXy32mepVY4L"
      }
    },
    {
      "cell_type": "code",
      "source": [
        "three, initially_sus = build_ring(50, 1)\n",
        "T111 = contact_process(three, initially_sus, 1)\n",
        "print(T111)"
      ],
      "metadata": {
        "colab": {
          "base_uri": "https://localhost:8080/"
        },
        "id": "ws6TC_pGRdiq",
        "outputId": "dbb7d8ef-53de-4926-e1c7-fbda77464330"
      },
      "execution_count": 51,
      "outputs": [
        {
          "output_type": "stream",
          "name": "stdout",
          "text": [
            "0.02564470400011487\n"
          ]
        }
      ]
    },
    {
      "cell_type": "code",
      "source": [
        "three, initially_sus = build_ring(50, 1)\n",
        "T222 = contact_process(three, initially_sus, 2)\n",
        "print(T222)"
      ],
      "metadata": {
        "colab": {
          "base_uri": "https://localhost:8080/"
        },
        "id": "A9iIqs5SVjQw",
        "outputId": "add738b0-fc77-4d50-90a0-3b94ed8566b9"
      },
      "execution_count": 52,
      "outputs": [
        {
          "output_type": "stream",
          "name": "stdout",
          "text": [
            "0.025606043000152567\n"
          ]
        }
      ]
    },
    {
      "cell_type": "code",
      "source": [
        "three, initially_sus = build_ring(50, 1)\n",
        "T333 = contact_process(three, initially_sus, 10)\n",
        "print(T333)"
      ],
      "metadata": {
        "colab": {
          "base_uri": "https://localhost:8080/"
        },
        "id": "mnJ9ROhVVm6i",
        "outputId": "e69739f1-abb7-4aa5-b781-93e98a1adb2a"
      },
      "execution_count": 53,
      "outputs": [
        {
          "output_type": "stream",
          "name": "stdout",
          "text": [
            "0.10925019400019664\n"
          ]
        }
      ]
    },
    {
      "cell_type": "code",
      "source": [
        "three, initially_sus = build_ring(50, 1)\n",
        "T444 = contact_process(three, initially_sus, 20)\n",
        "print(T444)"
      ],
      "metadata": {
        "colab": {
          "base_uri": "https://localhost:8080/"
        },
        "id": "ZqYvTf-_VqhT",
        "outputId": "74fe4b8c-9ebd-49bb-9bdc-5aa61bf35826"
      },
      "execution_count": 54,
      "outputs": [
        {
          "output_type": "stream",
          "name": "stdout",
          "text": [
            "0.2828923390006821\n"
          ]
        }
      ]
    },
    {
      "cell_type": "code",
      "source": [
        "three, initially_sus = build_ring(50, 1)\n",
        "T555 = contact_process(three, initially_sus, 50)\n",
        "print(T555)"
      ],
      "metadata": {
        "colab": {
          "base_uri": "https://localhost:8080/"
        },
        "id": "P2e_Gu5aVuK8",
        "outputId": "db0cbf30-2de5-4cc4-bb7d-f7bb43a5aabd"
      },
      "execution_count": 55,
      "outputs": [
        {
          "output_type": "stream",
          "name": "stdout",
          "text": [
            "0.48458683300032135\n"
          ]
        }
      ]
    },
    {
      "cell_type": "code",
      "source": [
        "three, initially_sus = build_ring(50, 1)\n",
        "T666 = contact_process(three, initially_sus, 60)\n",
        "print(T666)"
      ],
      "metadata": {
        "colab": {
          "base_uri": "https://localhost:8080/"
        },
        "id": "-ou5zaosVy1l",
        "outputId": "cf3524a1-138d-4099-b3f5-980d9411b4cd"
      },
      "execution_count": 56,
      "outputs": [
        {
          "output_type": "stream",
          "name": "stdout",
          "text": [
            "0.5558507039995675\n"
          ]
        }
      ]
    },
    {
      "cell_type": "code",
      "source": [
        "three, initially_sus = build_ring(50, 1)\n",
        "T777 = contact_process(three, initially_sus, 80)\n",
        "print(T777)"
      ],
      "metadata": {
        "colab": {
          "base_uri": "https://localhost:8080/"
        },
        "id": "BfZqI7C0V65T",
        "outputId": "2d8d0c76-0cb9-4641-a900-383c78ff2dd2"
      },
      "execution_count": 57,
      "outputs": [
        {
          "output_type": "stream",
          "name": "stdout",
          "text": [
            "0.47903711200069665\n"
          ]
        }
      ]
    },
    {
      "cell_type": "code",
      "source": [
        "three, initially_sus = build_ring(50, 1)\n",
        "T888 = contact_process(three, initially_sus, 1000)\n",
        "print(T888)"
      ],
      "metadata": {
        "colab": {
          "base_uri": "https://localhost:8080/"
        },
        "id": "hCI042L6WAT9",
        "outputId": "d9b766ad-7cb7-4cdd-88fa-a24bd60ce6f7"
      },
      "execution_count": 58,
      "outputs": [
        {
          "output_type": "stream",
          "name": "stdout",
          "text": [
            "7.9920616190001965\n"
          ]
        }
      ]
    },
    {
      "cell_type": "code",
      "source": [
        "three, initially_sus = build_ring(50, 1)\n",
        "T999 = contact_process(three, initially_sus, 2000)\n",
        "print(T999)"
      ],
      "metadata": {
        "colab": {
          "base_uri": "https://localhost:8080/"
        },
        "id": "k89sSGSyWFby",
        "outputId": "754408cd-4741-442c-ae29-a1d4ee1cb32f"
      },
      "execution_count": 59,
      "outputs": [
        {
          "output_type": "stream",
          "name": "stdout",
          "text": [
            "15.844543920999968\n"
          ]
        }
      ]
    },
    {
      "cell_type": "markdown",
      "source": [
        "Test 4: the graph now has 100 nodes, the distribution is the same. "
      ],
      "metadata": {
        "id": "CeZ99PepWrUf"
      }
    },
    {
      "cell_type": "code",
      "source": [
        "four, initially_sus = build_ring(100, 1)\n",
        "T1111 = contact_process(four, initially_sus, 1)\n",
        "print(T1111)"
      ],
      "metadata": {
        "colab": {
          "base_uri": "https://localhost:8080/"
        },
        "id": "1zLCvg2EWLS5",
        "outputId": "7098cbf4-c62b-4aec-80d2-e836cce47829"
      },
      "execution_count": 60,
      "outputs": [
        {
          "output_type": "stream",
          "name": "stdout",
          "text": [
            "0.06962170099996001\n"
          ]
        }
      ]
    },
    {
      "cell_type": "code",
      "source": [
        "four, initially_sus = build_ring(100, 1)\n",
        "T2222 = contact_process(four, initially_sus, 2)\n",
        "print(T2222)"
      ],
      "metadata": {
        "colab": {
          "base_uri": "https://localhost:8080/"
        },
        "id": "fH7nCqLOW2H3",
        "outputId": "ccfaa07e-d768-421a-fe6b-97f769fa9d93"
      },
      "execution_count": 61,
      "outputs": [
        {
          "output_type": "stream",
          "name": "stdout",
          "text": [
            "0.07741813699976774\n"
          ]
        }
      ]
    },
    {
      "cell_type": "code",
      "source": [
        "four, initially_sus = build_ring(100, 1)\n",
        "T3333 = contact_process(four, initially_sus, 10)\n",
        "print(T3333)"
      ],
      "metadata": {
        "colab": {
          "base_uri": "https://localhost:8080/"
        },
        "id": "sbrLLlAMW6PX",
        "outputId": "248de548-7565-4d58-fdde-4e60e8b5bf72"
      },
      "execution_count": 62,
      "outputs": [
        {
          "output_type": "stream",
          "name": "stdout",
          "text": [
            "0.27994843699980265\n"
          ]
        }
      ]
    },
    {
      "cell_type": "code",
      "source": [
        "four, initially_sus = build_ring(100, 1)\n",
        "T4444 = contact_process(four, initially_sus, 20)\n",
        "print(T4444)"
      ],
      "metadata": {
        "colab": {
          "base_uri": "https://localhost:8080/"
        },
        "id": "tQ-FozcHW9_t",
        "outputId": "a86f9166-5181-4bc0-c707-977b175f38bc"
      },
      "execution_count": 63,
      "outputs": [
        {
          "output_type": "stream",
          "name": "stdout",
          "text": [
            "0.4832053589998395\n"
          ]
        }
      ]
    },
    {
      "cell_type": "code",
      "source": [
        "four, initially_sus = build_ring(100, 1)\n",
        "T5555 = contact_process(four, initially_sus, 50)\n",
        "print(T5555)"
      ],
      "metadata": {
        "colab": {
          "base_uri": "https://localhost:8080/"
        },
        "id": "7DQXNjJDXB8P",
        "outputId": "d8a63b70-d6b0-4c7c-9035-6e0a0a441845"
      },
      "execution_count": 64,
      "outputs": [
        {
          "output_type": "stream",
          "name": "stdout",
          "text": [
            "1.4103010939998057\n"
          ]
        }
      ]
    },
    {
      "cell_type": "code",
      "source": [
        "four, initially_sus = build_ring(100, 1)\n",
        "T6666 = contact_process(four, initially_sus, 60)\n",
        "print(T6666)"
      ],
      "metadata": {
        "colab": {
          "base_uri": "https://localhost:8080/"
        },
        "id": "iz_r65usXFtZ",
        "outputId": "7afa80b7-dc64-48d6-c003-2a78718fbcb7"
      },
      "execution_count": 65,
      "outputs": [
        {
          "output_type": "stream",
          "name": "stdout",
          "text": [
            "1.94056394800009\n"
          ]
        }
      ]
    },
    {
      "cell_type": "code",
      "source": [
        "four, initially_sus = build_ring(100, 1)\n",
        "T7777 = contact_process(four, initially_sus, 80)\n",
        "print(T7777)"
      ],
      "metadata": {
        "colab": {
          "base_uri": "https://localhost:8080/"
        },
        "id": "Su2q36z0XPAZ",
        "outputId": "060a0e98-a1f9-48ce-c567-c10a110798d0"
      },
      "execution_count": 66,
      "outputs": [
        {
          "output_type": "stream",
          "name": "stdout",
          "text": [
            "1.3811517240001194\n"
          ]
        }
      ]
    },
    {
      "cell_type": "code",
      "source": [
        "four, initially_sus = build_ring(100, 1)\n",
        "T8888 = contact_process(four, initially_sus, 1000)\n",
        "print(T8888)"
      ],
      "metadata": {
        "colab": {
          "base_uri": "https://localhost:8080/"
        },
        "id": "UPcBrCBNXV6Q",
        "outputId": "175a5b32-b649-4733-d311-42926bb4c61c"
      },
      "execution_count": 67,
      "outputs": [
        {
          "output_type": "stream",
          "name": "stdout",
          "text": [
            "12.051127714999893\n"
          ]
        }
      ]
    },
    {
      "cell_type": "code",
      "source": [
        "four, initially_sus = build_ring(100, 1)\n",
        "T9999 = contact_process(four, initially_sus, 2000)\n",
        "print(T9999)"
      ],
      "metadata": {
        "colab": {
          "base_uri": "https://localhost:8080/"
        },
        "id": "K7Ffv1utYFEl",
        "outputId": "9b6a5d1d-e941-4ecc-d86f-edd2b6740ac3"
      },
      "execution_count": 68,
      "outputs": [
        {
          "output_type": "stream",
          "name": "stdout",
          "text": [
            "30.855308895000235\n"
          ]
        }
      ]
    },
    {
      "cell_type": "markdown",
      "source": [
        "Test 5: the graph has now 500 nodes, with the same distribution of 1, meaning all nodes start as infected. "
      ],
      "metadata": {
        "id": "lW-IE6pkYYAY"
      }
    },
    {
      "cell_type": "code",
      "source": [
        "five, initially_sus = build_ring(500, 1)\n",
        "T15 = contact_process(five, initially_sus, 1)\n",
        "print(T15)"
      ],
      "metadata": {
        "colab": {
          "base_uri": "https://localhost:8080/"
        },
        "id": "Zr0JA5neYNgZ",
        "outputId": "0051f340-7ec8-44bb-de87-f6960b880147"
      },
      "execution_count": 69,
      "outputs": [
        {
          "output_type": "stream",
          "name": "stdout",
          "text": [
            "0.4080715609998151\n"
          ]
        }
      ]
    },
    {
      "cell_type": "code",
      "source": [
        "five, initially_sus = build_ring(500, 1)\n",
        "T25 = contact_process(five, initially_sus, 2)\n",
        "print(T25)"
      ],
      "metadata": {
        "colab": {
          "base_uri": "https://localhost:8080/"
        },
        "id": "nSiF7rg-Yjyo",
        "outputId": "7ce924f7-1b08-4a3c-d670-2870abb271b2"
      },
      "execution_count": 70,
      "outputs": [
        {
          "output_type": "stream",
          "name": "stdout",
          "text": [
            "0.30556913200052804\n"
          ]
        }
      ]
    },
    {
      "cell_type": "code",
      "source": [
        "five, initially_sus = build_ring(500, 1)\n",
        "T35 = contact_process(five, initially_sus, 10)\n",
        "print(T35)"
      ],
      "metadata": {
        "colab": {
          "base_uri": "https://localhost:8080/"
        },
        "id": "ew0eMLO8Ym74",
        "outputId": "343a0590-7178-40a9-950f-92904664fc21"
      },
      "execution_count": 71,
      "outputs": [
        {
          "output_type": "stream",
          "name": "stdout",
          "text": [
            "1.341334894999818\n"
          ]
        }
      ]
    },
    {
      "cell_type": "code",
      "source": [
        "five, initially_sus = build_ring(500, 1)\n",
        "T45 = contact_process(five, initially_sus, 20)\n",
        "print(T45)"
      ],
      "metadata": {
        "colab": {
          "base_uri": "https://localhost:8080/"
        },
        "id": "vJnHREjaYpww",
        "outputId": "5c41f3e6-e669-4504-e7f4-f74ffa1f2836"
      },
      "execution_count": 72,
      "outputs": [
        {
          "output_type": "stream",
          "name": "stdout",
          "text": [
            "1.886852792999889\n"
          ]
        }
      ]
    },
    {
      "cell_type": "code",
      "source": [
        "five, initially_sus = build_ring(500, 1)\n",
        "T55 = contact_process(five, initially_sus, 50)\n",
        "print(T55)"
      ],
      "metadata": {
        "colab": {
          "base_uri": "https://localhost:8080/"
        },
        "id": "Z7Lex2TmYsp4",
        "outputId": "94f87484-4c9a-4db8-fc52-b05c258485ba"
      },
      "execution_count": 73,
      "outputs": [
        {
          "output_type": "stream",
          "name": "stdout",
          "text": [
            "6.5306026749995\n"
          ]
        }
      ]
    },
    {
      "cell_type": "code",
      "source": [
        "five, initially_sus = build_ring(500, 1)\n",
        "T65 = contact_process(five, initially_sus, 60)\n",
        "print(T65)"
      ],
      "metadata": {
        "colab": {
          "base_uri": "https://localhost:8080/"
        },
        "id": "Cj0gH_HeYwKw",
        "outputId": "6489a33f-f541-4279-dd7c-f26aa6188b0b"
      },
      "execution_count": 74,
      "outputs": [
        {
          "output_type": "stream",
          "name": "stdout",
          "text": [
            "6.815212653000344\n"
          ]
        }
      ]
    },
    {
      "cell_type": "code",
      "source": [
        "five, initially_sus = build_ring(500, 1)\n",
        "T75 = contact_process(five, initially_sus, 80)\n",
        "print(T75)"
      ],
      "metadata": {
        "colab": {
          "base_uri": "https://localhost:8080/"
        },
        "id": "cpk0cD7KY6cM",
        "outputId": "8ee03f6e-8f1d-49f2-9a77-831259938c07"
      },
      "execution_count": 75,
      "outputs": [
        {
          "output_type": "stream",
          "name": "stdout",
          "text": [
            "7.9922727250004755\n"
          ]
        }
      ]
    },
    {
      "cell_type": "code",
      "source": [
        "five, initially_sus = build_ring(500, 1)\n",
        "T85 = contact_process(five, initially_sus, 1000)\n",
        "print(T85)"
      ],
      "metadata": {
        "colab": {
          "base_uri": "https://localhost:8080/"
        },
        "id": "4511GKmJY_ba",
        "outputId": "f63e51c6-a23f-4642-8624-157a2543a7f2"
      },
      "execution_count": 76,
      "outputs": [
        {
          "output_type": "stream",
          "name": "stdout",
          "text": [
            "140.5930928529997\n"
          ]
        }
      ]
    },
    {
      "cell_type": "code",
      "source": [
        "five, initially_sus = build_ring(500, 1)\n",
        "T95 = contact_process(five, initially_sus, 2000)\n",
        "print(T95)"
      ],
      "metadata": {
        "colab": {
          "base_uri": "https://localhost:8080/"
        },
        "id": "P0fuSqPbZNAW",
        "outputId": "a8d75919-e67d-49a7-93b6-10e09877afa9"
      },
      "execution_count": 77,
      "outputs": [
        {
          "output_type": "stream",
          "name": "stdout",
          "text": [
            "217.7777634009999\n"
          ]
        }
      ]
    },
    {
      "cell_type": "markdown",
      "source": [
        "# Excution times on a discrete ring:\n",
        "\n",
        "| # nodes | lambda | Execution time | \n",
        "|---------|---------|-------------|\n",
        "| 10      |   1     | 0.003294173000540468|\n",
        "| 10 | 2 | 0.007752851000077499 |\n",
        "| 10 | 10 | 0.015790995999850566 |\n",
        "| 10 | 20 | 0.035583062000114296 |\n",
        "| 10 | 50 | 0.0611610779997136 |\n",
        "| 10 | 60 | 0.058442173000003095|\n",
        "| 10 | 80 | 0.13273851400026615|\n",
        "| 10 | 1000 | 1.9453608650001115|\n",
        "| 10 | 2000 | 1.5712766599999668|\n",
        "| 25      |   1     | 0.008812000000034459|\n",
        "| 25 | 2 | 0.05100449099973048 |\n",
        "| 25 | 10 | 0.048884908000218275 |\n",
        "| 25 | 20 | 0.056680982999750995 |\n",
        "| 25 | 50 | 0.17192118299954018 |\n",
        "| 25 | 60 | 0.2296649689997139|\n",
        "| 25 | 80 | 0.2657322559998647|\n",
        "| 25 | 1000 | 1.9277154920000612|\n",
        "| 25 | 2000 | 1.9277154920000612|\n",
        "| 50      |   1     | 0.02564470400011487|\n",
        "| 50 | 2 | 0.025606043000152567 |\n",
        "| 50 | 10 | 0.10925019400019664 |\n",
        "| 50 | 20 | 0.2828923390006821 |\n",
        "| 50 | 50 | 0.48458683300032135 |\n",
        "| 50 | 60 | 0.5558507039995675|\n",
        "| 50 | 80 | 0.47903711200069665|\n",
        "| 50 | 1000 | 7.9920616190001965\n",
        "| 50 | 2000 | 7.9920616190001965|\n",
        "| 100      |   1     | 0.06962170099996001|\n",
        "| 100 | 2 | 0.07741813699976774 |\n",
        "| 100 | 10 | 0.27994843699980265 |\n",
        "| 100 | 20 | 0.4832053589998395 |\n",
        "| 100 | 50 | 1.4103010939998057 |\n",
        "| 100 | 60 | 1.94056394800009|\n",
        "| 100 | 80 | 1.3811517240001194|\n",
        "| 100 | 1000 | 12.051127714999893\n",
        "| 100 | 2000 | 30.855308895000235|\n",
        "| 500      |   1     | 0.4080715609998151|\n",
        "| 500 | 2 | 0.30556913200052804 |\n",
        "| 500 | 10 | 1.341334894999818 |\n",
        "| 500 | 20 | 1.886852792999889 |\n",
        "| 500 | 50 | 6.5306026749995 |\n",
        "| 500 | 60 | 6.815212653000344|\n",
        "| 500 | 80 | 7.9922727250004755|\n",
        "| 500 | 1000 | 7.9922727250004755\n",
        "| 500 | 2000 | 217.7777634009999|\n"
      ],
      "metadata": {
        "id": "qQzmbRVGa3Xy"
      }
    },
    {
      "cell_type": "markdown",
      "source": [
        "# Contact process on a randomly generated graph"
      ],
      "metadata": {
        "id": "Vf7zH2wVb_ZS"
      }
    },
    {
      "cell_type": "code",
      "source": [
        "nodes = 40\n",
        "probability = 0.5\n",
        "G = nx.erdos_renyi_graph(nodes, probability)"
      ],
      "metadata": {
        "id": "77VMOeY0b96M"
      },
      "execution_count": 78,
      "outputs": []
    },
    {
      "cell_type": "code",
      "source": [
        "adj_matrix = nx.adjacency_matrix(G)\n",
        "adj_matrix = adj_matrix.todense()"
      ],
      "metadata": {
        "id": "udt5NlTVZ1aQ"
      },
      "execution_count": 79,
      "outputs": []
    },
    {
      "cell_type": "code",
      "source": [
        "def infection(matrix, perc):\n",
        "  N = matrix.shape[0]\n",
        "  initially_susceptible = np.full(N, 'S')         # returns a new array of given shape (N) and type, filled with fill_value ('S')\n",
        "  initially_infected = int(N*perc)                # ratio of infected nodes\n",
        "  for i in range(initially_infected):             # some infected nodes are going to be placed in random positions in the matrix\n",
        "    initially_susceptible[i] = 'I'\n",
        "  return initially_susceptible"
      ],
      "metadata": {
        "id": "V6jsJ5Q4ceGO"
      },
      "execution_count": 80,
      "outputs": []
    },
    {
      "cell_type": "code",
      "source": [
        "initially_infected = infection(adj_matrix, 1)"
      ],
      "metadata": {
        "id": "sra_88X4cqnZ"
      },
      "execution_count": 81,
      "outputs": []
    },
    {
      "cell_type": "code",
      "source": [
        "plot_graph(adj_matrix, initially_infected)"
      ],
      "metadata": {
        "colab": {
          "base_uri": "https://localhost:8080/",
          "height": 319
        },
        "id": "S1bptWIKczp0",
        "outputId": "5b344bfc-5339-45c6-84ef-d7fd1f5f464c"
      },
      "execution_count": 82,
      "outputs": [
        {
          "output_type": "display_data",
          "data": {
            "text/plain": [
              "<Figure size 432x288 with 1 Axes>"
            ],
            "image/png": "[encoded data removed]"
          },
          "metadata": {}
        }
      ]
    },
    {
      "cell_type": "code",
      "source": [
        "G = nx.erdos_renyi_graph(nodes, probability)\n",
        "adj_matrix = nx.adjacency_matrix(G)\n",
        "adj = adj_matrix.todense()\n",
        "init_inf = infection(adj, 1)\n",
        "T1X = contact_process(adj, init_inf, 1)\n",
        "print(T1X)"
      ],
      "metadata": {
        "colab": {
          "base_uri": "https://localhost:8080/"
        },
        "id": "kihtIRlUc5H1",
        "outputId": "e754635b-daf9-4f00-9ca7-7189ee310d9b"
      },
      "execution_count": 83,
      "outputs": [
        {
          "output_type": "stream",
          "name": "stdout",
          "text": [
            "0.03530746900014492\n"
          ]
        }
      ]
    },
    {
      "cell_type": "code",
      "source": [
        "G = nx.erdos_renyi_graph(nodes, probability)\n",
        "adj_matrix = nx.adjacency_matrix(G)\n",
        "adj = adj_matrix.todense()\n",
        "init_inf = infection(adj, 1)\n",
        "T2X = contact_process(adj, init_inf, 2)\n",
        "print(T2X)"
      ],
      "metadata": {
        "colab": {
          "base_uri": "https://localhost:8080/"
        },
        "id": "m5A7lcBVeB68",
        "outputId": "b4692885-f147-4dd3-a833-cef70d7f7c1a"
      },
      "execution_count": 84,
      "outputs": [
        {
          "output_type": "stream",
          "name": "stdout",
          "text": [
            "0.029970786000376393\n"
          ]
        }
      ]
    },
    {
      "cell_type": "code",
      "source": [
        "G = nx.erdos_renyi_graph(nodes, probability)\n",
        "adj_matrix = nx.adjacency_matrix(G)\n",
        "adj = adj_matrix.todense()\n",
        "init_inf = infection(adj, 1)\n",
        "T3X = contact_process(adj, init_inf, 10)\n",
        "print(T3X)"
      ],
      "metadata": {
        "colab": {
          "base_uri": "https://localhost:8080/"
        },
        "id": "Ak4D-t45eE7r",
        "outputId": "f654135b-25b5-40c1-fa0f-37f21f406132"
      },
      "execution_count": 85,
      "outputs": [
        {
          "output_type": "stream",
          "name": "stdout",
          "text": [
            "0.12127000399959798\n"
          ]
        }
      ]
    },
    {
      "cell_type": "code",
      "source": [
        "G = nx.erdos_renyi_graph(nodes, probability)\n",
        "adj_matrix = nx.adjacency_matrix(G)\n",
        "adj = adj_matrix.todense()\n",
        "init_inf = infection(adj, 1)\n",
        "T4X = contact_process(adj, init_inf, 50)\n",
        "print(T4X)"
      ],
      "metadata": {
        "colab": {
          "base_uri": "https://localhost:8080/"
        },
        "id": "-JWQv0BZeJ5r",
        "outputId": "894f0fa7-843c-46f2-9f67-379d0fa4321c"
      },
      "execution_count": 86,
      "outputs": [
        {
          "output_type": "stream",
          "name": "stdout",
          "text": [
            "0.2153140540003733\n"
          ]
        }
      ]
    },
    {
      "cell_type": "code",
      "source": [
        "G = nx.erdos_renyi_graph(nodes, probability)\n",
        "adj_matrix = nx.adjacency_matrix(G)\n",
        "adj = adj_matrix.todense()\n",
        "init_inf = infection(adj, 1)\n",
        "T5X = contact_process(adj, init_inf, 100)\n",
        "print(T5X)"
      ],
      "metadata": {
        "colab": {
          "base_uri": "https://localhost:8080/"
        },
        "id": "GaN1DscNeM5A",
        "outputId": "02246702-de0c-4771-97b2-071c50db3d61"
      },
      "execution_count": 87,
      "outputs": [
        {
          "output_type": "stream",
          "name": "stdout",
          "text": [
            "1.3220406979999098\n"
          ]
        }
      ]
    },
    {
      "cell_type": "code",
      "source": [
        "G = nx.erdos_renyi_graph(nodes, probability)\n",
        "adj_matrix = nx.adjacency_matrix(G)\n",
        "adj = adj_matrix.todense()\n",
        "init_inf = infection(adj, 1)\n",
        "T6X = contact_process(adj, init_inf, 500)\n",
        "print(T6X)"
      ],
      "metadata": {
        "colab": {
          "base_uri": "https://localhost:8080/"
        },
        "id": "rwPjmE4OeR9_",
        "outputId": "dfaf6036-84ce-440e-9ff3-9868005fe81b"
      },
      "execution_count": 88,
      "outputs": [
        {
          "output_type": "stream",
          "name": "stdout",
          "text": [
            "2.307287257000098\n"
          ]
        }
      ]
    },
    {
      "cell_type": "code",
      "source": [
        "G = nx.erdos_renyi_graph(nodes, probability)\n",
        "adj_matrix = nx.adjacency_matrix(G)\n",
        "adj = adj_matrix.todense()\n",
        "init_inf = infection(adj, 1)\n",
        "T7X = contact_process(adj, init_inf, 1000)\n",
        "print(T7X)"
      ],
      "metadata": {
        "colab": {
          "base_uri": "https://localhost:8080/"
        },
        "id": "sstgcuhneVu3",
        "outputId": "9b8aab4f-4d67-4232-f5e2-11a416224a62"
      },
      "execution_count": 89,
      "outputs": [
        {
          "output_type": "stream",
          "name": "stdout",
          "text": [
            "5.695586826999715\n"
          ]
        }
      ]
    },
    {
      "cell_type": "code",
      "source": [
        "G = nx.erdos_renyi_graph(nodes, probability)\n",
        "adj_matrix = nx.adjacency_matrix(G)\n",
        "adj = adj_matrix.todense()\n",
        "init_inf = infection(adj, 1)\n",
        "T8X = contact_process(adj, init_inf, 2000)\n",
        "print(T8X)"
      ],
      "metadata": {
        "colab": {
          "base_uri": "https://localhost:8080/"
        },
        "id": "dlGDHWrUex9k",
        "outputId": "2164b2ae-2147-48d0-ba5c-c530b871f8c8"
      },
      "execution_count": 90,
      "outputs": [
        {
          "output_type": "stream",
          "name": "stdout",
          "text": [
            "10.234926473999622\n"
          ]
        }
      ]
    },
    {
      "cell_type": "code",
      "source": [
        "G = nx.erdos_renyi_graph(nodes, probability)\n",
        "adj_matrix = nx.adjacency_matrix(G)\n",
        "adj = adj_matrix.todense()\n",
        "init_inf = infection(adj, 1)\n",
        "T9X = contact_process(adj, init_inf, 3000)\n",
        "print(T9X)"
      ],
      "metadata": {
        "colab": {
          "base_uri": "https://localhost:8080/"
        },
        "id": "1t1i3gNwe3Aa",
        "outputId": "60ae15d3-5f87-49aa-bd96-556731c49377"
      },
      "execution_count": 91,
      "outputs": [
        {
          "output_type": "stream",
          "name": "stdout",
          "text": [
            "16.01825774200006\n"
          ]
        }
      ]
    },
    {
      "cell_type": "markdown",
      "source": [
        "# Graphs to better understand the behavior of the process\n",
        "\n"
      ],
      "metadata": {
        "id": "RQwT4uAzky-F"
      }
    },
    {
      "cell_type": "code",
      "source": [
        "Tn = [T1, T2, T10, T20, T50, T60, T80, T1000, T2000]\n",
        "a = np.array(Tn)\n",
        "plt.xlabel('Elapsed time')\n",
        "plt.ylabel('Lambda')\n",
        "plt.title('Trend of the process with a 10 nodes discrete ring')\n",
        "plt.plot(np.average(a), marker = 'x', color = 'red')\n",
        "plt.scatter(a, y = [1, 2, 10, 20, 50, 60, 80, 1000, 2000])\n",
        "plt.show()"
      ],
      "metadata": {
        "colab": {
          "base_uri": "https://localhost:8080/",
          "height": 295
        },
        "id": "2gQ7PmZvleI6",
        "outputId": "8771fce3-aa01-4db9-895b-ab9e306e31d0"
      },
      "execution_count": 100,
      "outputs": [
        {
          "output_type": "display_data",
          "data": {
            "text/plain": [
              "<Figure size 432x288 with 1 Axes>"
            ],
            "image/png": "[encoded data removed]"
          },
          "metadata": {
            "needs_background": "light"
          }
        }
      ]
    },
    {
      "cell_type": "code",
      "source": [
        "Tn = [T11, T22, T33, T44, T55, T66, T77, T88, T99]\n",
        "a = np.array(Tn)\n",
        "plt.xlabel('Elapsed time')\n",
        "plt.ylabel('Lambda')\n",
        "plt.title('Trend of the process with a 25 nodes discrete ring')\n",
        "plt.plot(np.average(a), marker = 'x', color = 'red')\n",
        "plt.scatter(a, y = [1, 2, 10, 20, 50, 60, 80, 1000, 2000])\n",
        "plt.show()"
      ],
      "metadata": {
        "colab": {
          "base_uri": "https://localhost:8080/",
          "height": 295
        },
        "id": "Q9MqCeepl8hi",
        "outputId": "faba1366-5a0f-4bd6-972b-551e4599b427"
      },
      "execution_count": 103,
      "outputs": [
        {
          "output_type": "display_data",
          "data": {
            "text/plain": [
              "<Figure size 432x288 with 1 Axes>"
            ],
            "image/png": "[encoded data removed]"
          },
          "metadata": {
            "needs_background": "light"
          }
        }
      ]
    },
    {
      "cell_type": "code",
      "source": [
        "Tn = [T111, T222, T333, T444, T555, T666, T777, T888, T999]\n",
        "a = np.array(Tn)\n",
        "plt.xlabel('Elapsed time')\n",
        "plt.ylabel('Lambda')\n",
        "plt.title('Trend of the process with a 50 nodes discrete ring')\n",
        "plt.plot(np.average(a), marker = 'x', color = 'red')\n",
        "plt.scatter(a, y = [1, 2, 10, 20, 50, 60, 80, 1000, 2000])\n",
        "plt.show()"
      ],
      "metadata": {
        "colab": {
          "base_uri": "https://localhost:8080/",
          "height": 295
        },
        "id": "LAN4hvC0mXau",
        "outputId": "9f3a7cfc-6c86-41e2-b4a8-3b214457c7c3"
      },
      "execution_count": 105,
      "outputs": [
        {
          "output_type": "display_data",
          "data": {
            "text/plain": [
              "<Figure size 432x288 with 1 Axes>"
            ],
            "image/png": "[encoded data removed]"
          },
          "metadata": {
            "needs_background": "light"
          }
        }
      ]
    },
    {
      "cell_type": "code",
      "source": [
        "Tn = [T1111, T2222, T3333, T4444, T5555, T6666, T7777, T8888, T9999]\n",
        "a = np.array(Tn)\n",
        "plt.xlabel('Elapsed time')\n",
        "plt.ylabel('Lambda')\n",
        "plt.title('Trend of the process with a 100 nodes discrete ring')\n",
        "plt.plot(np.average(a), marker = 'x', color = 'red')\n",
        "plt.scatter(a, y = [1, 2, 10, 20, 50, 60, 80, 1000, 2000])\n",
        "plt.show()"
      ],
      "metadata": {
        "colab": {
          "base_uri": "https://localhost:8080/",
          "height": 295
        },
        "id": "cO5k_1DXn-Gd",
        "outputId": "6148adc0-2044-4a48-abe2-01d35e18e4f4"
      },
      "execution_count": 106,
      "outputs": [
        {
          "output_type": "display_data",
          "data": {
            "text/plain": [
              "<Figure size 432x288 with 1 Axes>"
            ],
            "image/png": "[encoded data removed]"
          },
          "metadata": {
            "needs_background": "light"
          }
        }
      ]
    },
    {
      "cell_type": "code",
      "source": [
        "Tn = [T15, T25, T35, T45, T55, T65, T75, T85, T95]\n",
        "a = np.array(Tn)\n",
        "plt.xlabel('Elapsed time')\n",
        "plt.ylabel('Lambda')\n",
        "plt.title('Trend of the process with a 500 nodes discrete ring')\n",
        "plt.plot(np.average(a), marker = 'x', color = 'red')\n",
        "plt.scatter(a, y = [1, 2, 10, 20, 50, 60, 80, 1000, 2000])\n",
        "plt.show()"
      ],
      "metadata": {
        "colab": {
          "base_uri": "https://localhost:8080/",
          "height": 295
        },
        "id": "fbwyy-OBoj2f",
        "outputId": "88a1cdc1-1901-45b0-8add-9da7e8fb0e8f"
      },
      "execution_count": 107,
      "outputs": [
        {
          "output_type": "display_data",
          "data": {
            "text/plain": [
              "<Figure size 432x288 with 1 Axes>"
            ],
            "image/png": "[encoded data removed]"
          },
          "metadata": {
            "needs_background": "light"
          }
        }
      ]
    },
    {
      "cell_type": "code",
      "source": [
        "Tn = [T1X, T2X, T3X, T4X, T5X, T6X, T7X, T8X, T9X]\n",
        "a = np.array(Tn)\n",
        "plt.xlabel('Elapsed time')\n",
        "plt.ylabel('Lambda')\n",
        "plt.title('Trend of the process with a 40 nodes random graph')\n",
        "plt.plot(np.average(a), marker = 'x', color = 'red')\n",
        "plt.scatter(a, y = [1, 2, 10, 50, 100, 500, 1000, 2000, 3000])\n",
        "plt.show()"
      ],
      "metadata": {
        "colab": {
          "base_uri": "https://localhost:8080/",
          "height": 295
        },
        "id": "-2kCl9ywovjS",
        "outputId": "a3196cd5-a241-473c-dc27-ccf567d051b6"
      },
      "execution_count": 109,
      "outputs": [
        {
          "output_type": "display_data",
          "data": {
            "text/plain": [
              "<Figure size 432x288 with 1 Axes>"
            ],
            "image/png": "[encoded data removed]"
          },
          "metadata": {
            "needs_background": "light"
          }
        }
      ]
    },
    {
      "cell_type": "markdown",
      "source": [
        "# Conclusions.\n",
        "\n",
        "The tests performed on different graphs provided two main facts: \n",
        "- When lambda is really small, the amount of time needed to complete the process is small, too. This goes for both a small graph and a bigger one. \n",
        "- The increase in lambda can only go so far, after a certain threshold the process takes too long to complete. This threshold is lower when the number of nodes grows. In short: bigger graphs have a lower lambda critic. \n",
        "\n",
        "Note: the algorithm works in a way that does converge with a probability on 1 in a finite amount of time, though the execution in itself is not deterministic. Two executions of the algorithm on the same graph can provide two different elapsed time results. This could both be given by the fact that the variables still in the cache part of the CPU, optimizing the result, or it could be that different choices were made in terms of neighbor chosen at random. \n",
        "\n",
        "The last test, on a \"regular\" graph of size n = 40 shows a slightly different behavior: given that each node has n/20 = 20 vertices to other 20 nodes, the lambda can increase more and the execution converges in a smaller amount of time than a bigger graph where each node has 2 neighbors (like the 500 nodes one). "
      ],
      "metadata": {
        "id": "AP-yHVahpaiD"
      }
    }
  ]
}